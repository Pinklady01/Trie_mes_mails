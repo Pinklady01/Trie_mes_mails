{
 "cells": [
  {
   "cell_type": "code",
   "execution_count": 2,
   "metadata": {},
   "outputs": [
    {
     "data": {
      "text/plain": [
       "\"\\nPour l'instant, un email, c'est:\\n- emetteur (string)\\n- destinataire (string)\\n- objet (string)\\n\\npour le RandomForest, on le transforme en vecteur \\n[emetteurBlabla?, destinataire?, objet?]\\n\\nce que j'ai en tête, c'est: \\n[emetteur1?, emeteur2?, emeteur3?, emeteur4? ...,  destinataire?, objet?]\\n\\nemetteur1/2/3/4 construit à partir de la liste des emails\\n\\nall_emeteurs (Set) = get_all_emetteurs(all_emails)\""
      ]
     },
     "execution_count": 2,
     "metadata": {},
     "output_type": "execute_result"
    }
   ],
   "source": [
    "import pytest\n",
    "#Boîte A : Tous les titres contiennent le mot \"notification\" (différents émetteurs/destinataires)\n",
    "#Boîte B : Tous les emails venant de l'émetteur blabla@gmail.com (différents titres/destinataires)\n",
    "\n",
    "#todo: généraliser la liste des features / réfléchir à d'autres cas\n",
    "#scénarios pour classifier\n",
    "\n",
    "\"\"\"\n",
    "Pour l'instant, un email, c'est:\n",
    "- emetteur (string)\n",
    "- destinataire (string)\n",
    "- objet (string)\n",
    "\n",
    "pour le RandomForest, on le transforme en vecteur \n",
    "[emetteurBlabla?, destinataire?, objet?]\n",
    "\n",
    "ce que j'ai en tête, c'est: \n",
    "[emetteur1?, emeteur2?, emeteur3?, emeteur4? ...,  destinataire?, objet?]\n",
    "\n",
    "emetteur1/2/3/4 construit à partir de la liste des emails\n",
    "\n",
    "all_emeteurs (Set) = get_all_emetteurs(all_emails)\"\"\""
   ]
  },
  {
   "cell_type": "code",
   "execution_count": 3,
   "metadata": {},
   "outputs": [
    {
     "data": {
      "text/html": [
       "<div>\n",
       "<style scoped>\n",
       "    .dataframe tbody tr th:only-of-type {\n",
       "        vertical-align: middle;\n",
       "    }\n",
       "\n",
       "    .dataframe tbody tr th {\n",
       "        vertical-align: top;\n",
       "    }\n",
       "\n",
       "    .dataframe thead th {\n",
       "        text-align: right;\n",
       "    }\n",
       "</style>\n",
       "<table border=\"1\" class=\"dataframe\">\n",
       "  <thead>\n",
       "    <tr style=\"text-align: right;\">\n",
       "      <th></th>\n",
       "      <th>destinaire</th>\n",
       "      <th>emetteur:blabla</th>\n",
       "      <th>notification</th>\n",
       "      <th>output</th>\n",
       "    </tr>\n",
       "  </thead>\n",
       "  <tbody>\n",
       "    <tr>\n",
       "      <th>0</th>\n",
       "      <td>False</td>\n",
       "      <td>False</td>\n",
       "      <td>True</td>\n",
       "      <td>1</td>\n",
       "    </tr>\n",
       "    <tr>\n",
       "      <th>1</th>\n",
       "      <td>True</td>\n",
       "      <td>False</td>\n",
       "      <td>True</td>\n",
       "      <td>1</td>\n",
       "    </tr>\n",
       "    <tr>\n",
       "      <th>2</th>\n",
       "      <td>False</td>\n",
       "      <td>False</td>\n",
       "      <td>True</td>\n",
       "      <td>1</td>\n",
       "    </tr>\n",
       "    <tr>\n",
       "      <th>3</th>\n",
       "      <td>False</td>\n",
       "      <td>True</td>\n",
       "      <td>False</td>\n",
       "      <td>2</td>\n",
       "    </tr>\n",
       "    <tr>\n",
       "      <th>4</th>\n",
       "      <td>True</td>\n",
       "      <td>True</td>\n",
       "      <td>False</td>\n",
       "      <td>2</td>\n",
       "    </tr>\n",
       "  </tbody>\n",
       "</table>\n",
       "</div>"
      ],
      "text/plain": [
       "   destinaire  emetteur:blabla  notification  output\n",
       "0       False            False          True       1\n",
       "1        True            False          True       1\n",
       "2       False            False          True       1\n",
       "3       False             True         False       2\n",
       "4        True             True         False       2"
      ]
     },
     "execution_count": 3,
     "metadata": {},
     "output_type": "execute_result"
    }
   ],
   "source": [
    "import pandas as pd\n",
    "features = pd.read_csv('data/emails.csv', sep = ';')\n",
    "features.head(5)"
   ]
  },
  {
   "cell_type": "code",
   "execution_count": 4,
   "metadata": {},
   "outputs": [
    {
     "data": {
      "text/html": [
       "<div>\n",
       "<style scoped>\n",
       "    .dataframe tbody tr th:only-of-type {\n",
       "        vertical-align: middle;\n",
       "    }\n",
       "\n",
       "    .dataframe tbody tr th {\n",
       "        vertical-align: top;\n",
       "    }\n",
       "\n",
       "    .dataframe thead th {\n",
       "        text-align: right;\n",
       "    }\n",
       "</style>\n",
       "<table border=\"1\" class=\"dataframe\">\n",
       "  <thead>\n",
       "    <tr style=\"text-align: right;\">\n",
       "      <th></th>\n",
       "      <th>output</th>\n",
       "    </tr>\n",
       "  </thead>\n",
       "  <tbody>\n",
       "    <tr>\n",
       "      <th>count</th>\n",
       "      <td>18.000000</td>\n",
       "    </tr>\n",
       "    <tr>\n",
       "      <th>mean</th>\n",
       "      <td>1.500000</td>\n",
       "    </tr>\n",
       "    <tr>\n",
       "      <th>std</th>\n",
       "      <td>0.514496</td>\n",
       "    </tr>\n",
       "    <tr>\n",
       "      <th>min</th>\n",
       "      <td>1.000000</td>\n",
       "    </tr>\n",
       "    <tr>\n",
       "      <th>25%</th>\n",
       "      <td>1.000000</td>\n",
       "    </tr>\n",
       "    <tr>\n",
       "      <th>50%</th>\n",
       "      <td>1.500000</td>\n",
       "    </tr>\n",
       "    <tr>\n",
       "      <th>75%</th>\n",
       "      <td>2.000000</td>\n",
       "    </tr>\n",
       "    <tr>\n",
       "      <th>max</th>\n",
       "      <td>2.000000</td>\n",
       "    </tr>\n",
       "  </tbody>\n",
       "</table>\n",
       "</div>"
      ],
      "text/plain": [
       "          output\n",
       "count  18.000000\n",
       "mean    1.500000\n",
       "std     0.514496\n",
       "min     1.000000\n",
       "25%     1.000000\n",
       "50%     1.500000\n",
       "75%     2.000000\n",
       "max     2.000000"
      ]
     },
     "execution_count": 4,
     "metadata": {},
     "output_type": "execute_result"
    }
   ],
   "source": [
    "features.describe()"
   ]
  },
  {
   "cell_type": "code",
   "execution_count": 5,
   "metadata": {},
   "outputs": [
    {
     "data": {
      "text/html": [
       "<div>\n",
       "<style scoped>\n",
       "    .dataframe tbody tr th:only-of-type {\n",
       "        vertical-align: middle;\n",
       "    }\n",
       "\n",
       "    .dataframe tbody tr th {\n",
       "        vertical-align: top;\n",
       "    }\n",
       "\n",
       "    .dataframe thead th {\n",
       "        text-align: right;\n",
       "    }\n",
       "</style>\n",
       "<table border=\"1\" class=\"dataframe\">\n",
       "  <thead>\n",
       "    <tr style=\"text-align: right;\">\n",
       "      <th></th>\n",
       "      <th>destinaire</th>\n",
       "      <th>emetteur:blabla</th>\n",
       "      <th>notification</th>\n",
       "      <th>output</th>\n",
       "    </tr>\n",
       "  </thead>\n",
       "  <tbody>\n",
       "    <tr>\n",
       "      <th>0</th>\n",
       "      <td>False</td>\n",
       "      <td>False</td>\n",
       "      <td>True</td>\n",
       "      <td>1</td>\n",
       "    </tr>\n",
       "    <tr>\n",
       "      <th>1</th>\n",
       "      <td>True</td>\n",
       "      <td>False</td>\n",
       "      <td>True</td>\n",
       "      <td>1</td>\n",
       "    </tr>\n",
       "    <tr>\n",
       "      <th>2</th>\n",
       "      <td>False</td>\n",
       "      <td>False</td>\n",
       "      <td>True</td>\n",
       "      <td>1</td>\n",
       "    </tr>\n",
       "    <tr>\n",
       "      <th>3</th>\n",
       "      <td>False</td>\n",
       "      <td>True</td>\n",
       "      <td>False</td>\n",
       "      <td>2</td>\n",
       "    </tr>\n",
       "    <tr>\n",
       "      <th>4</th>\n",
       "      <td>True</td>\n",
       "      <td>True</td>\n",
       "      <td>False</td>\n",
       "      <td>2</td>\n",
       "    </tr>\n",
       "  </tbody>\n",
       "</table>\n",
       "</div>"
      ],
      "text/plain": [
       "   destinaire  emetteur:blabla  notification  output\n",
       "0       False            False          True       1\n",
       "1        True            False          True       1\n",
       "2       False            False          True       1\n",
       "3       False             True         False       2\n",
       "4        True             True         False       2"
      ]
     },
     "execution_count": 5,
     "metadata": {},
     "output_type": "execute_result"
    }
   ],
   "source": [
    "features = pd.get_dummies(features)\n",
    "features.iloc[:,0:].head(5)"
   ]
  },
  {
   "cell_type": "code",
   "execution_count": 6,
   "metadata": {},
   "outputs": [],
   "source": [
    "import numpy as np\n",
    "#labels corresponds to the output result\n",
    "labels = np.array(features['output'])"
   ]
  },
  {
   "cell_type": "code",
   "execution_count": 7,
   "metadata": {},
   "outputs": [
    {
     "name": "stdout",
     "output_type": "stream",
     "text": [
      "[1 1 1 2 2 2 1 1 1 2 2 2 1 1 1 2 2 2]\n"
     ]
    }
   ],
   "source": [
    "print(labels)"
   ]
  },
  {
   "cell_type": "code",
   "execution_count": 8,
   "metadata": {},
   "outputs": [],
   "source": [
    "features= features.drop('output', axis = 1)\n",
    "feature_list = list(features.columns)\n",
    "features = np.array(features)"
   ]
  },
  {
   "cell_type": "code",
   "execution_count": 9,
   "metadata": {},
   "outputs": [
    {
     "name": "stdout",
     "output_type": "stream",
     "text": [
      "[[False False  True]\n",
      " [ True False  True]\n",
      " [False False  True]\n",
      " [False  True False]\n",
      " [ True  True False]\n",
      " [ True  True False]\n",
      " [False False  True]\n",
      " [ True False  True]\n",
      " [False False  True]\n",
      " [False  True False]\n",
      " [ True  True False]\n",
      " [ True  True False]\n",
      " [False False  True]\n",
      " [ True False  True]\n",
      " [False False  True]\n",
      " [False  True False]\n",
      " [ True  True False]\n",
      " [ True  True False]]\n"
     ]
    }
   ],
   "source": [
    "print(features)"
   ]
  },
  {
   "cell_type": "code",
   "execution_count": 9,
   "metadata": {},
   "outputs": [],
   "source": [
    "from sklearn.model_selection import train_test_split\n",
    "train_features, test_features, train_labels, test_labels = train_test_split(features, labels, test_size = 0.25, random_state = 42)"
   ]
  },
  {
   "cell_type": "code",
   "execution_count": 10,
   "metadata": {},
   "outputs": [
    {
     "name": "stdout",
     "output_type": "stream",
     "text": [
      "Training Features Shape: (13, 3)\n",
      "Training Labels Shape: (13,)\n",
      "Testing Features Shape: (5, 3)\n",
      "Testing Labels Shape: (5,)\n"
     ]
    }
   ],
   "source": [
    "print('Training Features Shape:', train_features.shape)\n",
    "print('Training Labels Shape:', train_labels.shape)\n",
    "print('Testing Features Shape:', test_features.shape)\n",
    "print('Testing Labels Shape:', test_labels.shape)"
   ]
  },
  {
   "cell_type": "code",
   "execution_count": 11,
   "metadata": {},
   "outputs": [],
   "source": [
    "from sklearn.ensemble import RandomForestRegressor\n",
    "rf = RandomForestRegressor(n_estimators = 60, random_state = 42)\n",
    "\n",
    "\n",
    "#Use of the model\n",
    "rf.fit(train_features, train_labels);"
   ]
  },
  {
   "cell_type": "code",
   "execution_count": 30,
   "metadata": {},
   "outputs": [
    {
     "name": "stdout",
     "output_type": "stream",
     "text": [
      "[[False False  True]\n",
      " [ True False  True]\n",
      " [False False  True]\n",
      " [ True  True False]\n",
      " [False  True False]]\n",
      "[1. 1. 1. 2. 2.]\n"
     ]
    }
   ],
   "source": [
    "# Use the forest's predict method on the test data\n",
    "predictions = rf.predict(test_features)\n",
    "print(test_features)\n",
    "print(predictions)"
   ]
  },
  {
   "cell_type": "code",
   "execution_count": 13,
   "metadata": {},
   "outputs": [
    {
     "name": "stdout",
     "output_type": "stream",
     "text": [
      "Mean Absolute Error: 0.0 degrees.\n"
     ]
    }
   ],
   "source": [
    "# Calculate the absolute errors\n",
    "errors = abs(predictions - test_labels)\n",
    "# Print out the mean absolute error (mae)\n",
    "print('Mean Absolute Error:', round(np.mean(errors), 2), 'degrees.')"
   ]
  },
  {
   "cell_type": "code",
   "execution_count": 14,
   "metadata": {},
   "outputs": [
    {
     "name": "stdout",
     "output_type": "stream",
     "text": [
      "Accuracy: 100.0 %.\n"
     ]
    }
   ],
   "source": [
    "# Calculate mean absolute percentage error (MAPE)\n",
    "mape = 100 * (errors / test_labels)\n",
    "# Calculate and display accuracy\n",
    "accuracy = 100 - np.mean(mape)\n",
    "print('Accuracy:', round(accuracy, 2), '%.')"
   ]
  },
  {
   "cell_type": "code",
   "execution_count": 15,
   "metadata": {},
   "outputs": [],
   "source": [
    "# Import tools needed for visualization\n",
    "from sklearn.tree import export_graphviz\n",
    "import pydot\n",
    "# Pull out one tree from the forest\n",
    "tree = rf.estimators_[5]\n",
    "# Import tools needed for visualization\n",
    "from sklearn.tree import export_graphviz\n",
    "import pydot\n",
    "# Pull out one tree from the forest\n",
    "tree = rf.estimators_[5]\n",
    "# Export the image to a dot file\n",
    "export_graphviz(tree, out_file = 'tree.dot', feature_names = feature_list, rounded = True, precision = 1)\n",
    "# Use dot file to create a graph\n",
    "(graph, ) = pydot.graph_from_dot_file('tree.dot')\n",
    "# Write graph to a png file\n",
    "graph.write_png('tree.png')"
   ]
  },
  {
   "cell_type": "code",
   "execution_count": 81,
   "metadata": {},
   "outputs": [],
   "source": [
    "from sklearn.model_selection import train_test_split\n",
    "from sklearn.ensemble import RandomForestRegressor\n",
    "class Email_classifier():\n",
    "    \n",
    "    def __init__(self, mail_box):\n",
    "    # body of the constructor\n",
    "        self.__mail_box = mail_box\n",
    "    \n",
    "    def classify(self, email):\n",
    "        features = self.email_to_features(email)\n",
    "        folder_number = self.__rf.predict([features])\n",
    "        folder_number = round(folder_number[0])\n",
    "        #leafs_results = self.__rf.apply([features])\n",
    "        return self.dico_folder_name[folder_number]\n",
    "    \n",
    "    def print_forest(self):\n",
    "        for i in range(len(self.__rf.estimators_)):\n",
    "            tree = self.__rf.estimators_[i]\n",
    "            export_graphviz(tree, out_file = 'tree' + str(i) +'.dot', feature_names = ['emetteur: blabla','destinataire', 'notification' ], rounded = True, precision = 1)\n",
    "            (graph, ) = pydot.graph_from_dot_file('tree' + str(i) +'.dot')\n",
    "            graph.write_png('tree' + str(i) +'.png')\n",
    "\n",
    "    def learn(self, data):\n",
    "        all_email = []\n",
    "        all_labels = []\n",
    "        self.dico_folder_name = {}\n",
    "        folder_number = 1\n",
    "        for folder_name in data:\n",
    "            all_email += data[folder_name]\n",
    "            self.dico_folder_name[folder_number] = folder_name\n",
    "            all_labels += [folder_number]*len(data[folder_name])\n",
    "            folder_number += 1\n",
    "        features = list(map(self.email_to_features, all_email))\n",
    "        train_features, test_features, train_labels, test_labels = train_test_split(features, all_labels, test_size = 0.25, random_state = 42)\n",
    "        self.__rf = RandomForestRegressor(n_estimators = 20)\n",
    "        #with random\n",
    "        #self.__rf = RandomForestRegressor(n_estimators = 20, random_state = 42)\n",
    "        self.__rf.fit(train_features, train_labels);\n",
    "    \n",
    "    def email_to_features(self, email):\n",
    "        features = []\n",
    "        features.append(email['emetteur'] == 'blabla@gmail.com')\n",
    "        features.append(email['destinataire'] == self.__mail_box)\n",
    "        features.append('notification' in email['objet'])\n",
    "        return features\n",
    "    \n",
    "    "
   ]
  },
  {
   "cell_type": "code",
   "execution_count": 82,
   "metadata": {},
   "outputs": [
    {
     "name": "stdout",
     "output_type": "stream",
     "text": [
      "boite A\n",
      "boite B\n"
     ]
    }
   ],
   "source": [
    "\n",
    "def test_classify():\n",
    "    email_class = Email_classifier('d@gmail.com')\n",
    "    boiteA = []\n",
    "    boiteB = []\n",
    "    faux_objet_email = {}\n",
    "\n",
    "    faux_objet_email['emetteur'] = 'notif@sncf.com'\n",
    "    faux_objet_email['destinataire'] = 'd@gmail.com'\n",
    "    faux_objet_email['objet'] = 'notification'\n",
    "    boiteA.append(faux_objet_email)\n",
    "\n",
    "    faux_objet_email1 = {}\n",
    "    faux_objet_email1['emetteur'] = 'test@gmail.com'\n",
    "    faux_objet_email1['destinataire'] = 'd@gmail.com'\n",
    "    faux_objet_email1['objet'] = 'notification'\n",
    "    boiteA.append(faux_objet_email1)\n",
    "\n",
    "    faux_objet_email2 = {}\n",
    "    faux_objet_email2['emetteur'] = 'notification@gmail.com'\n",
    "    faux_objet_email2['destinataire'] = 'd@gmail.com'\n",
    "    faux_objet_email2['objet'] = 'notification'\n",
    "    boiteA.append(faux_objet_email2)\n",
    "\n",
    "    faux_objet_email3 = {}\n",
    "    faux_objet_email3['emetteur'] = 'blabla@gmail.com'\n",
    "    faux_objet_email3['destinataire'] = 'd@gmail.com'\n",
    "    faux_objet_email3['objet'] = 'blablabla chaussure'\n",
    "    boiteB.append(faux_objet_email3)\n",
    "\n",
    "    faux_objet_email4 = {}\n",
    "    faux_objet_email4['emetteur'] = 'blabla@gmail.com'\n",
    "    faux_objet_email4['destinataire'] = 'd@gmail.com'\n",
    "    faux_objet_email4['objet'] = 'blablabla tong'\n",
    "    boiteB.append(faux_objet_email4)\n",
    "\n",
    "    faux_objet_email5 = {}\n",
    "    faux_objet_email5['emetteur'] = 'blabla@gmail.com'\n",
    "    faux_objet_email5['destinataire'] = 'd@gmail.com'\n",
    "    faux_objet_email5['objet'] = 'telephone'\n",
    "    boiteB.append(faux_objet_email5)\n",
    "\n",
    "    email_class.learn({'boite A': boiteA, 'boite B': boiteB})\n",
    "    assert email_class.classify(faux_objet_email) == 'boite A'\n",
    "    print(email_class.classify(faux_objet_email))\n",
    "    assert email_class.classify(faux_objet_email5) == 'boite B'\n",
    "    print(email_class.classify(faux_objet_email5))\n",
    "\n",
    "test_classify()"
   ]
  },
  {
   "cell_type": "code",
   "execution_count": null,
   "metadata": {},
   "outputs": [],
   "source": []
  }
 ],
 "metadata": {
  "kernelspec": {
   "display_name": "Python 3",
   "language": "python",
   "name": "python3"
  },
  "language_info": {
   "codemirror_mode": {
    "name": "ipython",
    "version": 3
   },
   "file_extension": ".py",
   "mimetype": "text/x-python",
   "name": "python",
   "nbconvert_exporter": "python",
   "pygments_lexer": "ipython3",
   "version": "3.7.5"
  }
 },
 "nbformat": 4,
 "nbformat_minor": 4
}
